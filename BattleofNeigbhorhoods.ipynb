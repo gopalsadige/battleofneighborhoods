{
    "cells": [
        {
            "metadata": {
                "collapsed": true
            },
            "cell_type": "markdown",
            "source": "This notebook will be used for the capstone project on Neighborhoods. We will extensively use location data APIs to get location data and use that data to get insights into neighborhoods. We will employ ML techniques such as clustering for the segmentation\n\n<h1 align=\"center\">\n<font size=\"5\">\nBattle of Neighborhoods Capstone Project\n</font>\n</h1>\n\nThis notebook will be used for the capstone project on Neighborhoods. We will extensively use location data APIs to get location data and use that data to get insights into neighborhoods. We will employ ML techniques such as clustering for the segmentation\n"
        },
        {
            "metadata": {},
            "cell_type": "code",
            "source": "import pandas as pd\nimport numpy as np\n\nprint ('Hello Capstone Project Course!')",
            "execution_count": 5,
            "outputs": [
                {
                    "output_type": "stream",
                    "text": "Hello Capstone Project Course!\n",
                    "name": "stdout"
                }
            ]
        }
    ],
    "metadata": {
        "kernelspec": {
            "name": "python3",
            "display_name": "Python 3.7",
            "language": "python"
        },
        "language_info": {
            "name": "python",
            "version": "3.7.10",
            "mimetype": "text/x-python",
            "codemirror_mode": {
                "name": "ipython",
                "version": 3
            },
            "pygments_lexer": "ipython3",
            "nbconvert_exporter": "python",
            "file_extension": ".py"
        }
    },
    "nbformat": 4,
    "nbformat_minor": 1
}